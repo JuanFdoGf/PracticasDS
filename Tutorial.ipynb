{
  "cells": [
    {
      "cell_type": "markdown",
      "metadata": {
        "id": "view-in-github",
        "colab_type": "text"
      },
      "source": [
        "<a href=\"https://colab.research.google.com/github/JuanFdoGf/PruebaGitHub/blob/main/Tutorial.ipynb\" target=\"_parent\"><img src=\"https://colab.research.google.com/assets/colab-badge.svg\" alt=\"Open In Colab\"/></a>"
      ]
    },
    {
      "cell_type": "code",
      "execution_count": null,
      "id": "f7b6ec05-25d3-4a84-97df-9608fb3feff6",
      "metadata": {
        "id": "f7b6ec05-25d3-4a84-97df-9608fb3feff6"
      },
      "outputs": [],
      "source": [
        "import sys\n",
        "import numpy as np"
      ]
    },
    {
      "cell_type": "markdown",
      "id": "3c4a6d60-cd44-461e-9333-409c34ac1ef9",
      "metadata": {
        "id": "3c4a6d60-cd44-461e-9333-409c34ac1ef9"
      },
      "source": [
        "## Basic Numpy Arrays"
      ]
    },
    {
      "cell_type": "code",
      "execution_count": null,
      "id": "e6fab529-c35b-4e7d-9fd8-95d0cdcec038",
      "metadata": {
        "id": "e6fab529-c35b-4e7d-9fd8-95d0cdcec038",
        "outputId": "f573e941-7f79-4b13-c645-b310d40d10be"
      },
      "outputs": [
        {
          "data": {
            "text/plain": [
              "array([1, 2, 3, 4])"
            ]
          },
          "execution_count": 3,
          "metadata": {},
          "output_type": "execute_result"
        }
      ],
      "source": [
        "np.array([1, 2, 3, 4])"
      ]
    },
    {
      "cell_type": "code",
      "execution_count": null,
      "id": "10bf0f8a-3169-49d0-932f-7c740606a864",
      "metadata": {
        "id": "10bf0f8a-3169-49d0-932f-7c740606a864"
      },
      "outputs": [],
      "source": [
        "a = np.array([1, 2, 3, 4])"
      ]
    },
    {
      "cell_type": "code",
      "execution_count": null,
      "id": "0d82e892-acc1-41b3-9e19-e21f77ed5a6a",
      "metadata": {
        "id": "0d82e892-acc1-41b3-9e19-e21f77ed5a6a"
      },
      "outputs": [],
      "source": [
        "b = np.array([0, .5, 1, 1.5, 2.])"
      ]
    },
    {
      "cell_type": "code",
      "execution_count": null,
      "id": "6bec49e4-2ca8-4dfd-8a88-06dbfe75fe52",
      "metadata": {
        "scrolled": true,
        "id": "6bec49e4-2ca8-4dfd-8a88-06dbfe75fe52",
        "outputId": "ecfb3e30-f48c-4660-8707-ffe35e69de12"
      },
      "outputs": [
        {
          "data": {
            "text/plain": [
              "(np.int64(1), np.int64(3))"
            ]
          },
          "execution_count": 7,
          "metadata": {},
          "output_type": "execute_result"
        }
      ],
      "source": [
        "a[0], a[2]"
      ]
    },
    {
      "cell_type": "code",
      "execution_count": null,
      "id": "63fd62b3-6152-47bf-897f-2c2339330b1a",
      "metadata": {
        "id": "63fd62b3-6152-47bf-897f-2c2339330b1a",
        "outputId": "250f0721-9738-434a-f29c-c6a031881775"
      },
      "outputs": [
        {
          "data": {
            "text/plain": [
              "array([1, 2, 3, 4])"
            ]
          },
          "execution_count": 8,
          "metadata": {},
          "output_type": "execute_result"
        }
      ],
      "source": [
        "a[0:]"
      ]
    },
    {
      "cell_type": "code",
      "execution_count": null,
      "id": "144c74da-2b0e-4c1a-9621-47eb582bdb9e",
      "metadata": {
        "id": "144c74da-2b0e-4c1a-9621-47eb582bdb9e",
        "outputId": "82dae241-ca7e-469f-d7a6-9d41ef8027ca"
      },
      "outputs": [
        {
          "data": {
            "text/plain": [
              "array([2, 3])"
            ]
          },
          "execution_count": 9,
          "metadata": {},
          "output_type": "execute_result"
        }
      ],
      "source": [
        "a[1:3]"
      ]
    },
    {
      "cell_type": "code",
      "execution_count": null,
      "id": "ef1d940f-cb77-4a45-aecf-66b0aaa3ed6f",
      "metadata": {
        "id": "ef1d940f-cb77-4a45-aecf-66b0aaa3ed6f",
        "outputId": "b6800b53-2c38-4bbf-cb38-3af3fc9d5270"
      },
      "outputs": [
        {
          "data": {
            "text/plain": [
              "array([0. , 0.5])"
            ]
          },
          "execution_count": 15,
          "metadata": {},
          "output_type": "execute_result"
        }
      ],
      "source": [
        "b[0:2]"
      ]
    },
    {
      "cell_type": "code",
      "execution_count": null,
      "id": "1a7ae7ce-99dd-4403-9cf1-09293cc5e294",
      "metadata": {
        "id": "1a7ae7ce-99dd-4403-9cf1-09293cc5e294",
        "outputId": "3a11dc10-4e05-4955-e274-bfb3a1902893"
      },
      "outputs": [
        {
          "data": {
            "text/plain": [
              "(np.float64(0.0), np.float64(1.0), np.float64(2.0))"
            ]
          },
          "execution_count": 16,
          "metadata": {},
          "output_type": "execute_result"
        }
      ],
      "source": [
        "b[0], b[2], b[-1]"
      ]
    },
    {
      "cell_type": "markdown",
      "id": "3c4ac873-de52-4a05-bb63-883873249db7",
      "metadata": {
        "id": "3c4ac873-de52-4a05-bb63-883873249db7"
      },
      "source": [
        "## Dimensions and shapes"
      ]
    },
    {
      "cell_type": "code",
      "execution_count": null,
      "id": "dbc918d2-b1ad-4505-b6ac-0362bbf07aa3",
      "metadata": {
        "id": "dbc918d2-b1ad-4505-b6ac-0362bbf07aa3"
      },
      "outputs": [],
      "source": [
        "A = np.array([\n",
        "    [1, 2, 3],\n",
        "    [4, 5, 6]\n",
        "])"
      ]
    },
    {
      "cell_type": "code",
      "execution_count": null,
      "id": "09168871-7f97-4f51-9a17-888eb9da235a",
      "metadata": {
        "id": "09168871-7f97-4f51-9a17-888eb9da235a",
        "outputId": "2e5c2c12-bd22-4f1a-aea2-e216d34b3414"
      },
      "outputs": [
        {
          "data": {
            "text/plain": [
              "(2, 3)"
            ]
          },
          "execution_count": 18,
          "metadata": {},
          "output_type": "execute_result"
        }
      ],
      "source": [
        "A.shape"
      ]
    },
    {
      "cell_type": "code",
      "execution_count": null,
      "id": "e039722d-d36f-498b-b0d9-e9f0804ccdfb",
      "metadata": {
        "id": "e039722d-d36f-498b-b0d9-e9f0804ccdfb",
        "outputId": "12135453-93a5-4f8c-c3d4-560b0d5fbe8b"
      },
      "outputs": [
        {
          "data": {
            "text/plain": [
              "2"
            ]
          },
          "execution_count": 21,
          "metadata": {},
          "output_type": "execute_result"
        }
      ],
      "source": [
        "A.ndim"
      ]
    },
    {
      "cell_type": "code",
      "execution_count": null,
      "id": "371193ab-cd17-4445-a590-1bc122439019",
      "metadata": {
        "id": "371193ab-cd17-4445-a590-1bc122439019",
        "outputId": "d401f9f5-aaac-453c-a48a-066706139513"
      },
      "outputs": [
        {
          "data": {
            "text/plain": [
              "6"
            ]
          },
          "execution_count": 19,
          "metadata": {},
          "output_type": "execute_result"
        }
      ],
      "source": [
        "A.size"
      ]
    },
    {
      "cell_type": "code",
      "execution_count": null,
      "id": "a21ecdba-4a48-4569-a812-5d6f1d62b0a0",
      "metadata": {
        "id": "a21ecdba-4a48-4569-a812-5d6f1d62b0a0"
      },
      "outputs": [],
      "source": [
        "B = np.array([\n",
        "    [\n",
        "        [12, 11, 10],\n",
        "        [9, 8, 7],\n",
        "    ],\n",
        "    [\n",
        "        [6, 5, 4],\n",
        "        [3, 2, 1],\n",
        "    ]\n",
        "])"
      ]
    },
    {
      "cell_type": "code",
      "execution_count": null,
      "id": "1cd851b9-f8d5-486f-9188-aef02daab4be",
      "metadata": {
        "id": "1cd851b9-f8d5-486f-9188-aef02daab4be",
        "outputId": "67734ed8-8c09-47d6-ff36-553a85214a36"
      },
      "outputs": [
        {
          "data": {
            "text/plain": [
              "array([[[12, 11, 10],\n",
              "        [ 9,  8,  7]],\n",
              "\n",
              "       [[ 6,  5,  4],\n",
              "        [ 3,  2,  1]]])"
            ]
          },
          "execution_count": 23,
          "metadata": {},
          "output_type": "execute_result"
        }
      ],
      "source": [
        "B"
      ]
    },
    {
      "cell_type": "code",
      "execution_count": null,
      "id": "277e9077-4c97-405f-9b29-3705e2643ff5",
      "metadata": {
        "id": "277e9077-4c97-405f-9b29-3705e2643ff5",
        "outputId": "2b5df76a-d920-4f92-dd25-72db0fe2695a"
      },
      "outputs": [
        {
          "data": {
            "text/plain": [
              "(2, 2, 3)"
            ]
          },
          "execution_count": 24,
          "metadata": {},
          "output_type": "execute_result"
        }
      ],
      "source": [
        "B.shape"
      ]
    },
    {
      "cell_type": "code",
      "execution_count": null,
      "id": "e015fd09-560a-48d6-92aa-ada77d437b2d",
      "metadata": {
        "id": "e015fd09-560a-48d6-92aa-ada77d437b2d"
      },
      "outputs": [],
      "source": []
    },
    {
      "cell_type": "code",
      "execution_count": null,
      "id": "646573d7-e8b3-4b96-9831-731f0c948c57",
      "metadata": {
        "id": "646573d7-e8b3-4b96-9831-731f0c948c57",
        "outputId": "2fd84459-f3c7-4e09-f671-a8858c0abe69"
      },
      "outputs": [
        {
          "data": {
            "text/plain": [
              "3"
            ]
          },
          "execution_count": 25,
          "metadata": {},
          "output_type": "execute_result"
        }
      ],
      "source": [
        "B.ndim"
      ]
    },
    {
      "cell_type": "code",
      "execution_count": null,
      "id": "ac50826f-1bab-49dc-b189-e6865caededc",
      "metadata": {
        "id": "ac50826f-1bab-49dc-b189-e6865caededc",
        "outputId": "51cecde8-c028-4c89-ef03-c22741effdc2"
      },
      "outputs": [
        {
          "data": {
            "text/plain": [
              "12"
            ]
          },
          "execution_count": 26,
          "metadata": {},
          "output_type": "execute_result"
        }
      ],
      "source": [
        "B.size"
      ]
    },
    {
      "cell_type": "markdown",
      "id": "bb2b5d1a-b87f-420e-9859-7a39f17c90ba",
      "metadata": {
        "id": "bb2b5d1a-b87f-420e-9859-7a39f17c90ba"
      },
      "source": [
        "## Indexing and Slicing of Matrices"
      ]
    },
    {
      "cell_type": "code",
      "execution_count": null,
      "id": "89c1b42d-3215-4e5d-bad0-21ebd2f478f0",
      "metadata": {
        "id": "89c1b42d-3215-4e5d-bad0-21ebd2f478f0"
      },
      "outputs": [],
      "source": [
        "#Square matrix\n",
        "A = np.array([\n",
        "    [1, 2, 3],\n",
        "    [4, 5, 6],\n",
        "    [7, 8, 9]\n",
        "])"
      ]
    },
    {
      "cell_type": "code",
      "execution_count": null,
      "id": "95017920-133e-4760-80e8-d78dd4ff935c",
      "metadata": {
        "id": "95017920-133e-4760-80e8-d78dd4ff935c",
        "outputId": "6e408f54-d4b0-4608-9e5c-857fc95a3013"
      },
      "outputs": [
        {
          "data": {
            "text/plain": [
              "array([4, 5, 6])"
            ]
          },
          "execution_count": 28,
          "metadata": {},
          "output_type": "execute_result"
        }
      ],
      "source": [
        "A[1]"
      ]
    },
    {
      "cell_type": "code",
      "execution_count": null,
      "id": "9c6608d2-6fb0-42b6-8510-abcb118e0cb2",
      "metadata": {
        "id": "9c6608d2-6fb0-42b6-8510-abcb118e0cb2",
        "outputId": "63300a3d-9aed-451e-c962-f4e6a05f15c7"
      },
      "outputs": [
        {
          "data": {
            "text/plain": [
              "np.int64(4)"
            ]
          },
          "execution_count": 29,
          "metadata": {},
          "output_type": "execute_result"
        }
      ],
      "source": [
        "A[1][0]"
      ]
    },
    {
      "cell_type": "code",
      "execution_count": null,
      "id": "54762ff8-c554-4094-84bb-2d1fd4dcc861",
      "metadata": {
        "id": "54762ff8-c554-4094-84bb-2d1fd4dcc861",
        "outputId": "c2c1bac1-2045-463b-d98e-11bb1962f097"
      },
      "outputs": [
        {
          "data": {
            "text/plain": [
              "np.int64(4)"
            ]
          },
          "execution_count": 30,
          "metadata": {},
          "output_type": "execute_result"
        }
      ],
      "source": [
        "A[1, 0]"
      ]
    },
    {
      "cell_type": "code",
      "execution_count": null,
      "id": "538c6dc8-35d2-4347-96ff-d424caf247a4",
      "metadata": {
        "id": "538c6dc8-35d2-4347-96ff-d424caf247a4",
        "outputId": "71aa57b8-c539-4ca1-893f-9dcdd8034f2c"
      },
      "outputs": [
        {
          "data": {
            "text/plain": [
              "array([[1, 2, 3],\n",
              "       [4, 5, 6]])"
            ]
          },
          "execution_count": 31,
          "metadata": {},
          "output_type": "execute_result"
        }
      ],
      "source": [
        "A[0:2]"
      ]
    },
    {
      "cell_type": "code",
      "execution_count": null,
      "id": "1339a9f8-8efa-40a1-87e5-1e5e22edf314",
      "metadata": {
        "id": "1339a9f8-8efa-40a1-87e5-1e5e22edf314",
        "outputId": "3ee19047-a79f-4828-8036-edf57aa38e0a"
      },
      "outputs": [
        {
          "data": {
            "text/plain": [
              "array([[1, 2],\n",
              "       [4, 5],\n",
              "       [7, 8]])"
            ]
          },
          "execution_count": 32,
          "metadata": {},
          "output_type": "execute_result"
        }
      ],
      "source": [
        "A[: ,:2]"
      ]
    },
    {
      "cell_type": "code",
      "execution_count": null,
      "id": "9a9d35db-19e6-45cc-9b04-776735ed7e87",
      "metadata": {
        "id": "9a9d35db-19e6-45cc-9b04-776735ed7e87",
        "outputId": "d02177b8-dba2-4fd8-8720-4d9d5e9a45d2"
      },
      "outputs": [
        {
          "data": {
            "text/plain": [
              "array([[1, 2, 3],\n",
              "       [4, 5, 6],\n",
              "       [7, 8, 9]])"
            ]
          },
          "execution_count": 33,
          "metadata": {},
          "output_type": "execute_result"
        }
      ],
      "source": [
        "A"
      ]
    },
    {
      "cell_type": "code",
      "execution_count": null,
      "id": "9de9fc3f-4cd0-4c26-9b49-a11d53c31022",
      "metadata": {
        "id": "9de9fc3f-4cd0-4c26-9b49-a11d53c31022"
      },
      "outputs": [],
      "source": [
        "A[1] = np.array([10, 10, 10])"
      ]
    },
    {
      "cell_type": "code",
      "execution_count": null,
      "id": "fb58f1f1-23e8-42e1-84c4-a77144eac830",
      "metadata": {
        "id": "fb58f1f1-23e8-42e1-84c4-a77144eac830",
        "outputId": "41ded560-bb40-466d-a4c9-4cf0a95e4fca"
      },
      "outputs": [
        {
          "data": {
            "text/plain": [
              "array([[ 1,  2,  3],\n",
              "       [10, 10, 10],\n",
              "       [ 7,  8,  9]])"
            ]
          },
          "execution_count": 35,
          "metadata": {},
          "output_type": "execute_result"
        }
      ],
      "source": [
        "A"
      ]
    },
    {
      "cell_type": "code",
      "execution_count": null,
      "id": "d698c2ce-f6a2-45a5-9166-6f405b78d3c1",
      "metadata": {
        "id": "d698c2ce-f6a2-45a5-9166-6f405b78d3c1"
      },
      "outputs": [],
      "source": [
        "A[2] = 99"
      ]
    },
    {
      "cell_type": "code",
      "execution_count": null,
      "id": "9fb3e275-dfd9-4085-93bc-74c9054f8c2c",
      "metadata": {
        "id": "9fb3e275-dfd9-4085-93bc-74c9054f8c2c",
        "outputId": "38e2a86f-dfb0-45b1-86a4-2d16ea653da5"
      },
      "outputs": [
        {
          "data": {
            "text/plain": [
              "array([[ 1,  2,  3],\n",
              "       [10, 10, 10],\n",
              "       [99, 99, 99]])"
            ]
          },
          "execution_count": 37,
          "metadata": {},
          "output_type": "execute_result"
        }
      ],
      "source": [
        "A"
      ]
    },
    {
      "cell_type": "markdown",
      "id": "9513376a-f999-4a94-81b4-f98229801d7a",
      "metadata": {
        "id": "9513376a-f999-4a94-81b4-f98229801d7a"
      },
      "source": [
        "## Summary statistics"
      ]
    },
    {
      "cell_type": "code",
      "execution_count": null,
      "id": "7c4213a8-d514-464e-8af8-ca9d59e289e4",
      "metadata": {
        "id": "7c4213a8-d514-464e-8af8-ca9d59e289e4"
      },
      "outputs": [],
      "source": [
        "a = np.array([1, 2, 3, 4])"
      ]
    },
    {
      "cell_type": "code",
      "execution_count": null,
      "id": "f8d4a50b-ffbc-4773-a352-a8c449566d13",
      "metadata": {
        "id": "f8d4a50b-ffbc-4773-a352-a8c449566d13",
        "outputId": "0611d5f7-2d56-4bac-ca76-7e9be4ae9ffb"
      },
      "outputs": [
        {
          "data": {
            "text/plain": [
              "np.int64(10)"
            ]
          },
          "execution_count": 41,
          "metadata": {},
          "output_type": "execute_result"
        }
      ],
      "source": [
        "a.sum()"
      ]
    },
    {
      "cell_type": "code",
      "execution_count": null,
      "id": "2359ec32-75e8-4000-b06f-2d71ba901504",
      "metadata": {
        "id": "2359ec32-75e8-4000-b06f-2d71ba901504",
        "outputId": "d95230e9-daea-47b9-bf59-ef934aa9eb82"
      },
      "outputs": [
        {
          "data": {
            "text/plain": [
              "np.float64(2.5)"
            ]
          },
          "execution_count": 42,
          "metadata": {},
          "output_type": "execute_result"
        }
      ],
      "source": [
        "a.mean()"
      ]
    },
    {
      "cell_type": "code",
      "execution_count": null,
      "id": "f227fe7a-2eeb-42e6-91d0-52bc4b171e95",
      "metadata": {
        "id": "f227fe7a-2eeb-42e6-91d0-52bc4b171e95",
        "outputId": "6c020f42-b512-4688-b87d-377fdd7ed630"
      },
      "outputs": [
        {
          "data": {
            "text/plain": [
              "np.float64(1.118033988749895)"
            ]
          },
          "execution_count": 4,
          "metadata": {},
          "output_type": "execute_result"
        }
      ],
      "source": [
        "a.std()"
      ]
    },
    {
      "cell_type": "code",
      "execution_count": null,
      "id": "65bb0f6a-8af8-4844-9213-364c212be68c",
      "metadata": {
        "id": "65bb0f6a-8af8-4844-9213-364c212be68c",
        "outputId": "8b1592a1-183a-4fde-f59d-ed46ae043882"
      },
      "outputs": [
        {
          "data": {
            "text/plain": [
              "np.float64(1.25)"
            ]
          },
          "execution_count": 44,
          "metadata": {},
          "output_type": "execute_result"
        }
      ],
      "source": [
        "a.var()"
      ]
    },
    {
      "cell_type": "code",
      "execution_count": null,
      "id": "d56854c8-a12b-4fa1-8c60-422bc94b2119",
      "metadata": {
        "id": "d56854c8-a12b-4fa1-8c60-422bc94b2119"
      },
      "outputs": [],
      "source": [
        "A = np.array([\n",
        "    [1, 2, 3],\n",
        "    [4, 5, 6],\n",
        "    [7, 8, 9]\n",
        "])"
      ]
    },
    {
      "cell_type": "code",
      "execution_count": null,
      "id": "1a4d6eed-0a6c-4b4f-a266-ac80cbacfda8",
      "metadata": {
        "id": "1a4d6eed-0a6c-4b4f-a266-ac80cbacfda8",
        "outputId": "236827fa-1234-42bd-fdbf-3f0ce416208e"
      },
      "outputs": [
        {
          "data": {
            "text/plain": [
              "np.int64(45)"
            ]
          },
          "execution_count": 6,
          "metadata": {},
          "output_type": "execute_result"
        }
      ],
      "source": [
        "A.sum()"
      ]
    },
    {
      "cell_type": "code",
      "execution_count": null,
      "id": "929770ad-63b0-44e5-85e3-60c083715980",
      "metadata": {
        "id": "929770ad-63b0-44e5-85e3-60c083715980",
        "outputId": "b1336795-80ba-4d50-a894-c1e952e56889"
      },
      "outputs": [
        {
          "data": {
            "text/plain": [
              "np.float64(5.0)"
            ]
          },
          "execution_count": 7,
          "metadata": {},
          "output_type": "execute_result"
        }
      ],
      "source": [
        "A.mean()"
      ]
    },
    {
      "cell_type": "code",
      "execution_count": null,
      "id": "adb383a0-f49d-480c-8dc5-14f83fea193e",
      "metadata": {
        "id": "adb383a0-f49d-480c-8dc5-14f83fea193e",
        "outputId": "17298745-468f-4979-d23d-d7d6562fc58d"
      },
      "outputs": [
        {
          "data": {
            "text/plain": [
              "np.float64(2.581988897471611)"
            ]
          },
          "execution_count": 8,
          "metadata": {},
          "output_type": "execute_result"
        }
      ],
      "source": [
        "A.std()"
      ]
    },
    {
      "cell_type": "code",
      "execution_count": null,
      "id": "f2bd7b4d-a989-4126-b3d3-a74a81bbad52",
      "metadata": {
        "id": "f2bd7b4d-a989-4126-b3d3-a74a81bbad52",
        "outputId": "7d30cbc0-6241-444d-f76d-66f155b159a8"
      },
      "outputs": [
        {
          "data": {
            "text/plain": [
              "array([12, 15, 18])"
            ]
          },
          "execution_count": 9,
          "metadata": {},
          "output_type": "execute_result"
        }
      ],
      "source": [
        "A.sum(axis=0)"
      ]
    },
    {
      "cell_type": "code",
      "execution_count": null,
      "id": "7f47cbf0-406c-4db2-9c50-fe074f0caefa",
      "metadata": {
        "id": "7f47cbf0-406c-4db2-9c50-fe074f0caefa",
        "outputId": "fb9a852d-7862-4b0f-f401-01b596712e32"
      },
      "outputs": [
        {
          "data": {
            "text/plain": [
              "array([ 6, 15, 24])"
            ]
          },
          "execution_count": 10,
          "metadata": {},
          "output_type": "execute_result"
        }
      ],
      "source": [
        "A.sum(axis=1)"
      ]
    },
    {
      "cell_type": "code",
      "execution_count": null,
      "id": "7c78c5ce-eff6-4a78-8fb0-656b30d2b8ec",
      "metadata": {
        "id": "7c78c5ce-eff6-4a78-8fb0-656b30d2b8ec",
        "outputId": "1729bf24-ea94-450a-be0b-a07f22f3ed6c"
      },
      "outputs": [
        {
          "data": {
            "text/plain": [
              "array([4., 5., 6.])"
            ]
          },
          "execution_count": 11,
          "metadata": {},
          "output_type": "execute_result"
        }
      ],
      "source": [
        "A.mean(axis=0)"
      ]
    },
    {
      "cell_type": "code",
      "execution_count": null,
      "id": "a1f76387-7fe0-4ffa-9aba-acf1fbd23414",
      "metadata": {
        "id": "a1f76387-7fe0-4ffa-9aba-acf1fbd23414",
        "outputId": "a3d9e5d8-259c-4e60-f9bd-8ca23afcd540"
      },
      "outputs": [
        {
          "data": {
            "text/plain": [
              "array([2., 5., 8.])"
            ]
          },
          "execution_count": 12,
          "metadata": {},
          "output_type": "execute_result"
        }
      ],
      "source": [
        "A.mean(axis=1)"
      ]
    },
    {
      "cell_type": "code",
      "execution_count": null,
      "id": "ddde22d1-cf3a-45f9-8afb-205fcb1aca8c",
      "metadata": {
        "id": "ddde22d1-cf3a-45f9-8afb-205fcb1aca8c",
        "outputId": "798b63f9-d637-4ae3-db64-e4f2aaf05954"
      },
      "outputs": [
        {
          "data": {
            "text/plain": [
              "array([2.44948974, 2.44948974, 2.44948974])"
            ]
          },
          "execution_count": 13,
          "metadata": {},
          "output_type": "execute_result"
        }
      ],
      "source": [
        "A.std(axis=0)"
      ]
    },
    {
      "cell_type": "code",
      "execution_count": null,
      "id": "dfc0cdc7-0768-4a86-a0df-2a4d3d698c05",
      "metadata": {
        "id": "dfc0cdc7-0768-4a86-a0df-2a4d3d698c05",
        "outputId": "05f1dd44-8ccf-4dbf-9482-81bd5ed87329"
      },
      "outputs": [
        {
          "data": {
            "text/plain": [
              "array([0.81649658, 0.81649658, 0.81649658])"
            ]
          },
          "execution_count": 14,
          "metadata": {},
          "output_type": "execute_result"
        }
      ],
      "source": [
        "A.std(axis=1)"
      ]
    },
    {
      "cell_type": "markdown",
      "id": "32b76331-9b60-4ced-80b9-ee7bf100fc08",
      "metadata": {
        "id": "32b76331-9b60-4ced-80b9-ee7bf100fc08"
      },
      "source": [
        "## Broadcasting and Vectorized Opetations"
      ]
    },
    {
      "cell_type": "code",
      "execution_count": null,
      "id": "49514b80-a9da-4610-a32b-06ae6e0c8b15",
      "metadata": {
        "id": "49514b80-a9da-4610-a32b-06ae6e0c8b15"
      },
      "outputs": [],
      "source": [
        "a = np.arange(4)"
      ]
    },
    {
      "cell_type": "code",
      "execution_count": null,
      "id": "7a1681e0-5a08-4cc8-9504-cef3b06c2ebc",
      "metadata": {
        "id": "7a1681e0-5a08-4cc8-9504-cef3b06c2ebc",
        "outputId": "ef791dff-4847-439a-a129-b0d138ea72c3"
      },
      "outputs": [
        {
          "data": {
            "text/plain": [
              "array([0, 1, 2, 3])"
            ]
          },
          "execution_count": 16,
          "metadata": {},
          "output_type": "execute_result"
        }
      ],
      "source": [
        "a"
      ]
    },
    {
      "cell_type": "code",
      "execution_count": null,
      "id": "83673ddc-b3b8-4054-8a8c-3a342fcf6617",
      "metadata": {
        "id": "83673ddc-b3b8-4054-8a8c-3a342fcf6617",
        "outputId": "d7353883-8ef0-48d5-a9cb-66ec5bb19348"
      },
      "outputs": [
        {
          "data": {
            "text/plain": [
              "array([10, 11, 12, 13])"
            ]
          },
          "execution_count": 17,
          "metadata": {},
          "output_type": "execute_result"
        }
      ],
      "source": [
        "a + 10"
      ]
    },
    {
      "cell_type": "code",
      "execution_count": null,
      "id": "2aae6a57-8c14-4ef5-805e-fdd9b8073ae2",
      "metadata": {
        "id": "2aae6a57-8c14-4ef5-805e-fdd9b8073ae2",
        "outputId": "3cc1b83a-c956-4bfa-d8b1-fa45ebd0deff"
      },
      "outputs": [
        {
          "data": {
            "text/plain": [
              "array([ 0, 10, 20, 30])"
            ]
          },
          "execution_count": 18,
          "metadata": {},
          "output_type": "execute_result"
        }
      ],
      "source": [
        "a * 10"
      ]
    },
    {
      "cell_type": "code",
      "execution_count": null,
      "id": "b8ab27af-3ac0-49a0-a742-e43efb5c3481",
      "metadata": {
        "id": "b8ab27af-3ac0-49a0-a742-e43efb5c3481",
        "outputId": "09ea17b7-d888-4180-ae9c-ef49f89df5a8"
      },
      "outputs": [
        {
          "data": {
            "text/plain": [
              "array([0, 1, 2, 3])"
            ]
          },
          "execution_count": 19,
          "metadata": {},
          "output_type": "execute_result"
        }
      ],
      "source": [
        "a"
      ]
    },
    {
      "cell_type": "code",
      "execution_count": null,
      "id": "97d9adf5-98b6-42a4-ae38-d64d595ee33d",
      "metadata": {
        "id": "97d9adf5-98b6-42a4-ae38-d64d595ee33d"
      },
      "outputs": [],
      "source": [
        "a += 100"
      ]
    },
    {
      "cell_type": "code",
      "execution_count": null,
      "id": "876177b8-c6cb-4e01-8a41-ec3576467da0",
      "metadata": {
        "id": "876177b8-c6cb-4e01-8a41-ec3576467da0",
        "outputId": "804dcff0-6909-4731-8ce7-993ab729b646"
      },
      "outputs": [
        {
          "data": {
            "text/plain": [
              "array([100, 101, 102, 103])"
            ]
          },
          "execution_count": 21,
          "metadata": {},
          "output_type": "execute_result"
        }
      ],
      "source": [
        "a"
      ]
    },
    {
      "cell_type": "code",
      "execution_count": null,
      "id": "9e604891-621b-459e-b5c3-b6236e8c2a0e",
      "metadata": {
        "id": "9e604891-621b-459e-b5c3-b6236e8c2a0e"
      },
      "outputs": [],
      "source": [
        "l = [0, 1, 2, 3]"
      ]
    },
    {
      "cell_type": "code",
      "execution_count": null,
      "id": "d19515a2-f4b1-4152-97af-9af0e6c9ef99",
      "metadata": {
        "id": "d19515a2-f4b1-4152-97af-9af0e6c9ef99",
        "outputId": "43f3b9d6-2b5a-4550-fd33-ab1ef9330fa4"
      },
      "outputs": [
        {
          "data": {
            "text/plain": [
              "[0, 10, 20, 30]"
            ]
          },
          "execution_count": 23,
          "metadata": {},
          "output_type": "execute_result"
        }
      ],
      "source": [
        "[i * 10 for i in l]"
      ]
    },
    {
      "cell_type": "code",
      "execution_count": null,
      "id": "6fa29920-ebf3-4d76-9422-feb71b993002",
      "metadata": {
        "id": "6fa29920-ebf3-4d76-9422-feb71b993002"
      },
      "outputs": [],
      "source": [
        "a = np.arange(4)"
      ]
    },
    {
      "cell_type": "code",
      "execution_count": null,
      "id": "a61858e1-6f7b-4d10-afb8-6db769801df8",
      "metadata": {
        "id": "a61858e1-6f7b-4d10-afb8-6db769801df8",
        "outputId": "f9fef781-0141-453a-dc65-830875bbf732"
      },
      "outputs": [
        {
          "data": {
            "text/plain": [
              "array([0, 1, 2, 3])"
            ]
          },
          "execution_count": 25,
          "metadata": {},
          "output_type": "execute_result"
        }
      ],
      "source": [
        "a"
      ]
    },
    {
      "cell_type": "code",
      "execution_count": null,
      "id": "10b7217e-82af-4534-921a-d2873622ae56",
      "metadata": {
        "id": "10b7217e-82af-4534-921a-d2873622ae56"
      },
      "outputs": [],
      "source": [
        "b = np.array([10, 10, 10, 10])"
      ]
    },
    {
      "cell_type": "code",
      "execution_count": null,
      "id": "1d0ade33-bbcd-41ea-992d-883bcb44c68d",
      "metadata": {
        "id": "1d0ade33-bbcd-41ea-992d-883bcb44c68d",
        "outputId": "1414c969-dc3b-43fe-f8d1-789feb820f6e"
      },
      "outputs": [
        {
          "data": {
            "text/plain": [
              "array([10, 11, 12, 13])"
            ]
          },
          "execution_count": 29,
          "metadata": {},
          "output_type": "execute_result"
        }
      ],
      "source": [
        "a + b"
      ]
    },
    {
      "cell_type": "code",
      "execution_count": null,
      "id": "5a5b9cb8-ea94-4c9c-9cfb-3c4cfc052409",
      "metadata": {
        "id": "5a5b9cb8-ea94-4c9c-9cfb-3c4cfc052409",
        "outputId": "de89f4ef-6d91-493c-a736-558cc99e9ac1"
      },
      "outputs": [
        {
          "data": {
            "text/plain": [
              "array([ 0, 10, 20, 30])"
            ]
          },
          "execution_count": 30,
          "metadata": {},
          "output_type": "execute_result"
        }
      ],
      "source": [
        "a * b"
      ]
    },
    {
      "cell_type": "markdown",
      "id": "21252f29-97e0-43b8-8593-ceb4743898c2",
      "metadata": {
        "id": "21252f29-97e0-43b8-8593-ceb4743898c2"
      },
      "source": [
        "## Boolean arrays"
      ]
    },
    {
      "cell_type": "code",
      "execution_count": null,
      "id": "83c57c08-c645-42eb-aa1b-55b3aa4729ac",
      "metadata": {
        "id": "83c57c08-c645-42eb-aa1b-55b3aa4729ac"
      },
      "outputs": [],
      "source": [
        "a = np.arange(4)"
      ]
    },
    {
      "cell_type": "code",
      "execution_count": null,
      "id": "421eaeb6-92c9-4e7d-8028-30309a4367a1",
      "metadata": {
        "id": "421eaeb6-92c9-4e7d-8028-30309a4367a1"
      },
      "outputs": [],
      "source": [
        "a"
      ]
    },
    {
      "cell_type": "code",
      "execution_count": null,
      "id": "be10ca93-52fd-4008-9cb0-d326a99abf44",
      "metadata": {
        "id": "be10ca93-52fd-4008-9cb0-d326a99abf44"
      },
      "outputs": [],
      "source": [
        "a[[0, -1]]"
      ]
    },
    {
      "cell_type": "code",
      "execution_count": null,
      "id": "713fb702-2506-4006-af3a-7871360840e8",
      "metadata": {
        "id": "713fb702-2506-4006-af3a-7871360840e8"
      },
      "outputs": [],
      "source": [
        "a[[True, False, False, True]]"
      ]
    },
    {
      "cell_type": "code",
      "execution_count": null,
      "id": "1dd3fd76-9aa6-48f7-b138-6adc11fd280b",
      "metadata": {
        "id": "1dd3fd76-9aa6-48f7-b138-6adc11fd280b"
      },
      "outputs": [],
      "source": [
        "a >= 2"
      ]
    },
    {
      "cell_type": "code",
      "execution_count": null,
      "id": "7d7ab6d0-c611-414b-b6a8-3e17b1672a43",
      "metadata": {
        "id": "7d7ab6d0-c611-414b-b6a8-3e17b1672a43"
      },
      "outputs": [],
      "source": [
        "a[a >= 2]"
      ]
    },
    {
      "cell_type": "code",
      "execution_count": null,
      "id": "35dbb0bf-bf2d-4e0f-bc63-65e49ae33297",
      "metadata": {
        "id": "35dbb0bf-bf2d-4e0f-bc63-65e49ae33297"
      },
      "outputs": [],
      "source": [
        "a.mean()"
      ]
    },
    {
      "cell_type": "code",
      "execution_count": null,
      "id": "3becf269-6ad3-4102-8d06-b80d86e0fe28",
      "metadata": {
        "id": "3becf269-6ad3-4102-8d06-b80d86e0fe28"
      },
      "outputs": [],
      "source": [
        "a[a > a.mean()]"
      ]
    },
    {
      "cell_type": "code",
      "execution_count": null,
      "id": "84380ba9-1905-49da-8b10-b8a4fd305d0a",
      "metadata": {
        "id": "84380ba9-1905-49da-8b10-b8a4fd305d0a"
      },
      "outputs": [],
      "source": [
        "a[~(a > a.mean())]"
      ]
    },
    {
      "cell_type": "code",
      "execution_count": null,
      "id": "8501d77c-07ab-458f-9084-d87ba5037365",
      "metadata": {
        "id": "8501d77c-07ab-458f-9084-d87ba5037365"
      },
      "outputs": [],
      "source": [
        "a[(a == 0) | (a == 1)]"
      ]
    },
    {
      "cell_type": "code",
      "execution_count": null,
      "id": "e27f7c0e-77e1-41f2-b164-0eb688c18a4e",
      "metadata": {
        "id": "e27f7c0e-77e1-41f2-b164-0eb688c18a4e"
      },
      "outputs": [],
      "source": [
        "a[(a >= 2) & (a % 2 == 0)]"
      ]
    },
    {
      "cell_type": "code",
      "execution_count": null,
      "id": "699859e6-16b7-41ac-beb2-4a3246fe182d",
      "metadata": {
        "id": "699859e6-16b7-41ac-beb2-4a3246fe182d"
      },
      "outputs": [],
      "source": [
        "A = np.random.randint(100, size=(3, 3))"
      ]
    },
    {
      "cell_type": "code",
      "execution_count": null,
      "id": "23a8b50b-37e6-457e-90f2-1687dd686ce1",
      "metadata": {
        "id": "23a8b50b-37e6-457e-90f2-1687dd686ce1"
      },
      "outputs": [],
      "source": [
        "A"
      ]
    },
    {
      "cell_type": "code",
      "execution_count": null,
      "id": "17a9bf5a-6514-4600-89c8-b41debf07a5b",
      "metadata": {
        "id": "17a9bf5a-6514-4600-89c8-b41debf07a5b"
      },
      "outputs": [],
      "source": [
        "A[np.array([\n",
        "    [True, False, True],\n",
        "    [False, True, False],\n",
        "    [True, False, True]\n",
        "])]"
      ]
    },
    {
      "cell_type": "code",
      "execution_count": null,
      "id": "838a903c-a4f0-4372-a6d5-ae6bc44e3a98",
      "metadata": {
        "id": "838a903c-a4f0-4372-a6d5-ae6bc44e3a98"
      },
      "outputs": [],
      "source": [
        "A > 30"
      ]
    },
    {
      "cell_type": "code",
      "execution_count": null,
      "id": "115ad5d0-7211-4db9-8e45-6c923d94de8c",
      "metadata": {
        "id": "115ad5d0-7211-4db9-8e45-6c923d94de8c"
      },
      "outputs": [],
      "source": []
    },
    {
      "cell_type": "code",
      "execution_count": null,
      "id": "c91f1691-815d-4c6a-bb96-60890ccde84f",
      "metadata": {
        "id": "c91f1691-815d-4c6a-bb96-60890ccde84f"
      },
      "outputs": [],
      "source": []
    },
    {
      "cell_type": "code",
      "execution_count": null,
      "id": "b8a6e2ac-23e2-40a3-9850-a120cf1702ad",
      "metadata": {
        "id": "b8a6e2ac-23e2-40a3-9850-a120cf1702ad"
      },
      "outputs": [],
      "source": []
    }
  ],
  "metadata": {
    "kernelspec": {
      "display_name": "Python 3 (ipykernel)",
      "language": "python",
      "name": "python3"
    },
    "language_info": {
      "codemirror_mode": {
        "name": "ipython",
        "version": 3
      },
      "file_extension": ".py",
      "mimetype": "text/x-python",
      "name": "python",
      "nbconvert_exporter": "python",
      "pygments_lexer": "ipython3",
      "version": "3.12.0"
    },
    "colab": {
      "provenance": [],
      "include_colab_link": true
    }
  },
  "nbformat": 4,
  "nbformat_minor": 5
}