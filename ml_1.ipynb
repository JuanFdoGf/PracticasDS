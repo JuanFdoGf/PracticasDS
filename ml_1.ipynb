{
  "nbformat": 4,
  "nbformat_minor": 0,
  "metadata": {
    "colab": {
      "provenance": [],
      "mount_file_id": "1WmZ_WQkw2nKMrt9IPeD2IOq4cd1LqrCK",
      "authorship_tag": "ABX9TyMkgPGy1Vy8I5rFbxNOrJQ0",
      "include_colab_link": true
    },
    "kernelspec": {
      "name": "python3",
      "display_name": "Python 3"
    },
    "language_info": {
      "name": "python"
    }
  },
  "cells": [
    {
      "cell_type": "markdown",
      "metadata": {
        "id": "view-in-github",
        "colab_type": "text"
      },
      "source": [
        "<a href=\"https://colab.research.google.com/github/JuanFdoGf/PracticasDS/blob/main/ml_1.ipynb\" target=\"_parent\"><img src=\"https://colab.research.google.com/assets/colab-badge.svg\" alt=\"Open In Colab\"/></a>"
      ]
    },
    {
      "cell_type": "code",
      "source": [
        "!pip install numpy-financial"
      ],
      "metadata": {
        "colab": {
          "base_uri": "https://localhost:8080/"
        },
        "id": "tCsxiVYd4bNA",
        "outputId": "e5440857-24e4-410f-8a7b-f94f1d0e20f8"
      },
      "execution_count": 3,
      "outputs": [
        {
          "output_type": "stream",
          "name": "stdout",
          "text": [
            "Collecting numpy-financial\n",
            "  Downloading numpy_financial-1.0.0-py3-none-any.whl.metadata (2.2 kB)\n",
            "Requirement already satisfied: numpy>=1.15 in /usr/local/lib/python3.10/dist-packages (from numpy-financial) (1.26.4)\n",
            "Downloading numpy_financial-1.0.0-py3-none-any.whl (14 kB)\n",
            "Installing collected packages: numpy-financial\n",
            "Successfully installed numpy-financial-1.0.0\n"
          ]
        }
      ]
    },
    {
      "cell_type": "code",
      "source": [
        "#Importando librerias para el modelo\n",
        "\n",
        "\n",
        "import pandas as pd\n",
        "import numpy as np\n",
        "from numpy_financial import npv, irr\n",
        "from google.colab import drive\n",
        "drive.mount('/content/drive')"
      ],
      "metadata": {
        "colab": {
          "base_uri": "https://localhost:8080/"
        },
        "id": "OpvKXhW7PbWR",
        "outputId": "2c1415bb-7e84-4f68-ef31-f7f453580f4a"
      },
      "execution_count": 4,
      "outputs": [
        {
          "output_type": "stream",
          "name": "stdout",
          "text": [
            "Drive already mounted at /content/drive; to attempt to forcibly remount, call drive.mount(\"/content/drive\", force_remount=True).\n"
          ]
        }
      ]
    },
    {
      "cell_type": "code",
      "source": [
        "df = pd.read_excel('/content/drive/My Drive/Colab Notebooks/Data/financial_data.xlsx')"
      ],
      "metadata": {
        "id": "USVq88HeQ6_Z"
      },
      "execution_count": 5,
      "outputs": []
    },
    {
      "cell_type": "markdown",
      "source": [
        "Calcular VPN (Valor Presente Neto)"
      ],
      "metadata": {
        "id": "zZGttAwF5ZMk"
      }
    },
    {
      "cell_type": "code",
      "source": [
        "rate = 0.1\n",
        "cash_flows = df['Cash Flow'].tolist()\n",
        "npv_result = npv(rate,cash_flows)"
      ],
      "metadata": {
        "id": "oOd0nKQASgU4"
      },
      "execution_count": 6,
      "outputs": []
    },
    {
      "cell_type": "markdown",
      "source": [
        "Calcular TIR (Tasa Interna de Retorno)"
      ],
      "metadata": {
        "id": "swm_58A-5m-W"
      }
    },
    {
      "cell_type": "code",
      "source": [
        "irr_result = irr(cash_flows)"
      ],
      "metadata": {
        "id": "gBpPGR6w5mrF"
      },
      "execution_count": 7,
      "outputs": []
    },
    {
      "cell_type": "markdown",
      "source": [
        "Calcular el Periodo de Recuperación"
      ],
      "metadata": {
        "id": "xkYix-o059gi"
      }
    },
    {
      "cell_type": "code",
      "source": [
        "initial_invesment = cash_flows[0]\n",
        "payback_period = 0\n",
        "cummulative_cash_flow = 0\n",
        "for period, cash_flow in enumerate(cash_flows):\n",
        "  cummulative_cash_flow += cash_flow\n",
        "  if cummulative_cash_flow >= initial_invesment:\n",
        "    payback_period = period + 1\n",
        "    break"
      ],
      "metadata": {
        "id": "lBRYviOx5g3j"
      },
      "execution_count": 8,
      "outputs": []
    },
    {
      "cell_type": "markdown",
      "source": [
        "Calcular el IR (Indice de Rentabilidad)"
      ],
      "metadata": {
        "id": "h_D87i1K68TC"
      }
    },
    {
      "cell_type": "code",
      "source": [
        "pi = npv_result / abs(initial_invesment)"
      ],
      "metadata": {
        "id": "cMKqrgSW65rg"
      },
      "execution_count": 9,
      "outputs": []
    },
    {
      "cell_type": "markdown",
      "source": [
        "Printing Resultados"
      ],
      "metadata": {
        "id": "HMoKjdq-7LPC"
      }
    },
    {
      "cell_type": "code",
      "source": [
        "print(f'NPV: ${npv_result:.2f}')\n",
        "print(f'IRR: ${irr_result:.2%}')\n",
        "print(f'Payback Period: {payback_period} años')\n",
        "print(f'PI: {pi:.2f}')"
      ],
      "metadata": {
        "colab": {
          "base_uri": "https://localhost:8080/"
        },
        "id": "84jYi74i7I5D",
        "outputId": "41725d63-caed-4c58-996b-ed60e8be3711"
      },
      "execution_count": 10,
      "outputs": [
        {
          "output_type": "stream",
          "name": "stdout",
          "text": [
            "NPV: $29078.68\n",
            "IRR: $19.71%\n",
            "Payback Period: 1 años\n",
            "PI: 0.29\n"
          ]
        }
      ]
    },
    {
      "cell_type": "code",
      "source": [],
      "metadata": {
        "id": "_pQWV7_V7rSl"
      },
      "execution_count": null,
      "outputs": []
    }
  ]
}