{
  "nbformat": 4,
  "nbformat_minor": 0,
  "metadata": {
    "colab": {
      "provenance": [],
      "authorship_tag": "ABX9TyPK8zQfJwhpNp3LwYXgnQQ/",
      "include_colab_link": true
    },
    "kernelspec": {
      "name": "python3",
      "display_name": "Python 3"
    },
    "language_info": {
      "name": "python"
    }
  },
  "cells": [
    {
      "cell_type": "markdown",
      "metadata": {
        "id": "view-in-github",
        "colab_type": "text"
      },
      "source": [
        "<a href=\"https://colab.research.google.com/github/JuanFdoGf/PracticasDS/blob/main/RNA_Clasificaci%C3%B3n_Keras.ipynb\" target=\"_parent\"><img src=\"https://colab.research.google.com/assets/colab-badge.svg\" alt=\"Open In Colab\"/></a>"
      ]
    },
    {
      "cell_type": "code",
      "execution_count": 1,
      "metadata": {
        "id": "lMvxmKN53ij0"
      },
      "outputs": [],
      "source": [
        "import tensorflow as tf"
      ]
    },
    {
      "cell_type": "code",
      "source": [
        "from tensorflow import keras"
      ],
      "metadata": {
        "id": "tXbBr_Iw4BQU"
      },
      "execution_count": 2,
      "outputs": []
    },
    {
      "cell_type": "markdown",
      "source": [
        "## Importando el conjunto de datos"
      ],
      "metadata": {
        "id": "XHDyqKw-4TaU"
      }
    },
    {
      "cell_type": "code",
      "source": [
        "from tensorflow.keras import datasets"
      ],
      "metadata": {
        "id": "rh6gU4UB4MIN"
      },
      "execution_count": 3,
      "outputs": []
    },
    {
      "cell_type": "code",
      "source": [
        "mnist = datasets.mnist"
      ],
      "metadata": {
        "id": "mhanzgva4VhP"
      },
      "execution_count": 4,
      "outputs": []
    },
    {
      "cell_type": "code",
      "source": [
        "(X_train, y_train), (X_test, y_test) = mnist.load_data()"
      ],
      "metadata": {
        "id": "tVgXY5la4pEo"
      },
      "execution_count": 5,
      "outputs": []
    },
    {
      "cell_type": "code",
      "source": [
        "import numpy as np\n",
        "import matplotlib.pyplot as plt"
      ],
      "metadata": {
        "id": "L8MpvyK45vSL"
      },
      "execution_count": 6,
      "outputs": []
    },
    {
      "cell_type": "code",
      "source": [
        "# Visualización de los primeros 8 ejemplos de nuestro conjunto de datos de entrenamiento\n",
        "plt.figure(figsize=(20, 4))\n",
        "\n",
        "for index, digit in zip(range(1, 9), X_train[:8]):\n",
        "    plt.subplot(1, 8, index)\n",
        "    plt.imshow(np.reshape(digit, (28,28)), cmap=plt.cm.gray)\n",
        "    plt.title('Ejemplo: ' + str(index))\n",
        "plt.show()"
      ],
      "metadata": {
        "colab": {
          "base_uri": "https://localhost:8080/",
          "height": 247
        },
        "id": "Hhdtr0aM5QaW",
        "outputId": "f1130c0e-070a-4886-f852-8701a9f5e9c5"
      },
      "execution_count": 7,
      "outputs": [
        {
          "output_type": "display_data",
          "data": {
            "text/plain": [
              "<Figure size 2000x400 with 8 Axes>"
            ],
            "image/png": "[encoded data removed]"
          },
          "metadata": {}
        }
      ]
    },
    {
      "cell_type": "code",
      "source": [
        "from sklearn.model_selection import train_test_split\n",
        "\n",
        "X_test, X_val, y_test, y_val = train_test_split(X_test, y_test, test_size=0.5)"
      ],
      "metadata": {
        "id": "6pJnZlBk62Mc"
      },
      "execution_count": 8,
      "outputs": []
    },
    {
      "cell_type": "markdown",
      "source": [
        "##2. Definición de la arquitectura de la RNA"
      ],
      "metadata": {
        "id": "cKbtXn6k8I_p"
      }
    },
    {
      "cell_type": "code",
      "source": [
        "from tensorflow.keras import models\n",
        "from tensorflow.keras import layers\n",
        "from tensorflow.keras.layers import Input"
      ],
      "metadata": {
        "id": "tvjvJCQW7cKR"
      },
      "execution_count": 9,
      "outputs": []
    },
    {
      "cell_type": "code",
      "source": [
        "network = models.Sequential([\n",
        "    Input(shape=(28*28,)),\n",
        "    layers.Dense(300, activation='relu'),\n",
        "    layers.Dropout(0.5),\n",
        "    layers.Dense(100, activation='relu'),\n",
        "    layers.Dropout(0.5),\n",
        "    layers.Dense(10, activation='softmax')\n",
        "])"
      ],
      "metadata": {
        "id": "yzBSxyid8Z9i"
      },
      "execution_count": 10,
      "outputs": []
    },
    {
      "cell_type": "code",
      "source": [
        "network.summary()"
      ],
      "metadata": {
        "colab": {
          "base_uri": "https://localhost:8080/",
          "height": 306
        },
        "id": "K9NwmoXX9GqX",
        "outputId": "dd093c4e-dd35-432d-b92a-a6de1a06c04f"
      },
      "execution_count": 11,
      "outputs": [
        {
          "output_type": "display_data",
          "data": {
            "text/plain": [
              "\u001b[1mModel: \"sequential\"\u001b[0m\n"
            ],
            "text/html": [
              "<pre style=\"white-space:pre;overflow-x:auto;line-height:normal;font-family:Menlo,'DejaVu Sans Mono',consolas,'Courier New',monospace\"><span style=\"font-weight: bold\">Model: \"sequential\"</span>\n",
              "</pre>\n"
            ]
          },
          "metadata": {}
        },
        {
          "output_type": "display_data",
          "data": {
            "text/plain": [
              "┏━━━━━━━━━━━━━━━━━━━━━━━━━━━━━━━━━━━━━━┳━━━━━━━━━━━━━━━━━━━━━━━━━━━━━┳━━━━━━━━━━━━━━━━━┓\n",
              "┃\u001b[1m \u001b[0m\u001b[1mLayer (type)                        \u001b[0m\u001b[1m \u001b[0m┃\u001b[1m \u001b[0m\u001b[1mOutput Shape               \u001b[0m\u001b[1m \u001b[0m┃\u001b[1m \u001b[0m\u001b[1m        Param #\u001b[0m\u001b[1m \u001b[0m┃\n",
              "┡━━━━━━━━━━━━━━━━━━━━━━━━━━━━━━━━━━━━━━╇━━━━━━━━━━━━━━━━━━━━━━━━━━━━━╇━━━━━━━━━━━━━━━━━┩\n",
              "│ dense (\u001b[38;5;33mDense\u001b[0m)                        │ (\u001b[38;5;45mNone\u001b[0m, \u001b[38;5;34m300\u001b[0m)                 │         \u001b[38;5;34m235,500\u001b[0m │\n",
              "├──────────────────────────────────────┼─────────────────────────────┼─────────────────┤\n",
              "│ dropout (\u001b[38;5;33mDropout\u001b[0m)                    │ (\u001b[38;5;45mNone\u001b[0m, \u001b[38;5;34m300\u001b[0m)                 │               \u001b[38;5;34m0\u001b[0m │\n",
              "├──────────────────────────────────────┼─────────────────────────────┼─────────────────┤\n",
              "│ dense_1 (\u001b[38;5;33mDense\u001b[0m)                      │ (\u001b[38;5;45mNone\u001b[0m, \u001b[38;5;34m100\u001b[0m)                 │          \u001b[38;5;34m30,100\u001b[0m │\n",
              "├──────────────────────────────────────┼─────────────────────────────┼─────────────────┤\n",
              "│ dropout_1 (\u001b[38;5;33mDropout\u001b[0m)                  │ (\u001b[38;5;45mNone\u001b[0m, \u001b[38;5;34m100\u001b[0m)                 │               \u001b[38;5;34m0\u001b[0m │\n",
              "├──────────────────────────────────────┼─────────────────────────────┼─────────────────┤\n",
              "│ dense_2 (\u001b[38;5;33mDense\u001b[0m)                      │ (\u001b[38;5;45mNone\u001b[0m, \u001b[38;5;34m10\u001b[0m)                  │           \u001b[38;5;34m1,010\u001b[0m │\n",
              "└──────────────────────────────────────┴─────────────────────────────┴─────────────────┘\n"
            ],
            "text/html": [
              "<pre style=\"white-space:pre;overflow-x:auto;line-height:normal;font-family:Menlo,'DejaVu Sans Mono',consolas,'Courier New',monospace\">┏━━━━━━━━━━━━━━━━━━━━━━━━━━━━━━━━━━━━━━┳━━━━━━━━━━━━━━━━━━━━━━━━━━━━━┳━━━━━━━━━━━━━━━━━┓\n",
              "┃<span style=\"font-weight: bold\"> Layer (type)                         </span>┃<span style=\"font-weight: bold\"> Output Shape                </span>┃<span style=\"font-weight: bold\">         Param # </span>┃\n",
              "┡━━━━━━━━━━━━━━━━━━━━━━━━━━━━━━━━━━━━━━╇━━━━━━━━━━━━━━━━━━━━━━━━━━━━━╇━━━━━━━━━━━━━━━━━┩\n",
              "│ dense (<span style=\"color: #0087ff; text-decoration-color: #0087ff\">Dense</span>)                        │ (<span style=\"color: #00d7ff; text-decoration-color: #00d7ff\">None</span>, <span style=\"color: #00af00; text-decoration-color: #00af00\">300</span>)                 │         <span style=\"color: #00af00; text-decoration-color: #00af00\">235,500</span> │\n",
              "├──────────────────────────────────────┼─────────────────────────────┼─────────────────┤\n",
              "│ dropout (<span style=\"color: #0087ff; text-decoration-color: #0087ff\">Dropout</span>)                    │ (<span style=\"color: #00d7ff; text-decoration-color: #00d7ff\">None</span>, <span style=\"color: #00af00; text-decoration-color: #00af00\">300</span>)                 │               <span style=\"color: #00af00; text-decoration-color: #00af00\">0</span> │\n",
              "├──────────────────────────────────────┼─────────────────────────────┼─────────────────┤\n",
              "│ dense_1 (<span style=\"color: #0087ff; text-decoration-color: #0087ff\">Dense</span>)                      │ (<span style=\"color: #00d7ff; text-decoration-color: #00d7ff\">None</span>, <span style=\"color: #00af00; text-decoration-color: #00af00\">100</span>)                 │          <span style=\"color: #00af00; text-decoration-color: #00af00\">30,100</span> │\n",
              "├──────────────────────────────────────┼─────────────────────────────┼─────────────────┤\n",
              "│ dropout_1 (<span style=\"color: #0087ff; text-decoration-color: #0087ff\">Dropout</span>)                  │ (<span style=\"color: #00d7ff; text-decoration-color: #00d7ff\">None</span>, <span style=\"color: #00af00; text-decoration-color: #00af00\">100</span>)                 │               <span style=\"color: #00af00; text-decoration-color: #00af00\">0</span> │\n",
              "├──────────────────────────────────────┼─────────────────────────────┼─────────────────┤\n",
              "│ dense_2 (<span style=\"color: #0087ff; text-decoration-color: #0087ff\">Dense</span>)                      │ (<span style=\"color: #00d7ff; text-decoration-color: #00d7ff\">None</span>, <span style=\"color: #00af00; text-decoration-color: #00af00\">10</span>)                  │           <span style=\"color: #00af00; text-decoration-color: #00af00\">1,010</span> │\n",
              "└──────────────────────────────────────┴─────────────────────────────┴─────────────────┘\n",
              "</pre>\n"
            ]
          },
          "metadata": {}
        },
        {
          "output_type": "display_data",
          "data": {
            "text/plain": [
              "\u001b[1m Total params: \u001b[0m\u001b[38;5;34m266,610\u001b[0m (1.02 MB)\n"
            ],
            "text/html": [
              "<pre style=\"white-space:pre;overflow-x:auto;line-height:normal;font-family:Menlo,'DejaVu Sans Mono',consolas,'Courier New',monospace\"><span style=\"font-weight: bold\"> Total params: </span><span style=\"color: #00af00; text-decoration-color: #00af00\">266,610</span> (1.02 MB)\n",
              "</pre>\n"
            ]
          },
          "metadata": {}
        },
        {
          "output_type": "display_data",
          "data": {
            "text/plain": [
              "\u001b[1m Trainable params: \u001b[0m\u001b[38;5;34m266,610\u001b[0m (1.02 MB)\n"
            ],
            "text/html": [
              "<pre style=\"white-space:pre;overflow-x:auto;line-height:normal;font-family:Menlo,'DejaVu Sans Mono',consolas,'Courier New',monospace\"><span style=\"font-weight: bold\"> Trainable params: </span><span style=\"color: #00af00; text-decoration-color: #00af00\">266,610</span> (1.02 MB)\n",
              "</pre>\n"
            ]
          },
          "metadata": {}
        },
        {
          "output_type": "display_data",
          "data": {
            "text/plain": [
              "\u001b[1m Non-trainable params: \u001b[0m\u001b[38;5;34m0\u001b[0m (0.00 B)\n"
            ],
            "text/html": [
              "<pre style=\"white-space:pre;overflow-x:auto;line-height:normal;font-family:Menlo,'DejaVu Sans Mono',consolas,'Courier New',monospace\"><span style=\"font-weight: bold\"> Non-trainable params: </span><span style=\"color: #00af00; text-decoration-color: #00af00\">0</span> (0.00 B)\n",
              "</pre>\n"
            ]
          },
          "metadata": {}
        }
      ]
    },
    {
      "cell_type": "code",
      "source": [
        "hidden1 = network.layers[1]"
      ],
      "metadata": {
        "id": "_dG2OMZx1j2u"
      },
      "execution_count": 12,
      "outputs": []
    },
    {
      "cell_type": "markdown",
      "source": [
        "##3. Configuración de la RNA"
      ],
      "metadata": {
        "id": "qZQweE0n-6B2"
      }
    },
    {
      "cell_type": "code",
      "source": [
        "network.compile(loss='categorical_crossentropy',\n",
        "                optimizer='adam',\n",
        "                metrics=['accuracy', 'Precision'])"
      ],
      "metadata": {
        "id": "ihr7ArE993dn"
      },
      "execution_count": 13,
      "outputs": []
    },
    {
      "cell_type": "markdown",
      "source": [
        "##4. Preparación del conjunto de datos"
      ],
      "metadata": {
        "id": "KeYkGV5r-59a"
      }
    },
    {
      "cell_type": "code",
      "source": [
        "# Preparación de las cartacterísticas de entrada\n",
        "X_train_prep = X_train.reshape((60000, 28*28))\n",
        "X_train_pred = X_train_prep.astype('float32') / 255.0\n",
        "\n",
        "X_test_prep = X_test.reshape((5000, 28*28))\n",
        "X_test_prep = X_test_prep.astype('float32') / 255.0\n",
        "\n",
        "X_val_prep = X_val.reshape((5000, 28*28))\n",
        "X_val_prep = X_val_prep.astype('float32') / 255.0"
      ],
      "metadata": {
        "id": "kibLcqU0_Zv0"
      },
      "execution_count": 14,
      "outputs": []
    },
    {
      "cell_type": "code",
      "source": [
        "# Preparación de las características de salida\n",
        "from tensorflow.keras.utils import to_categorical\n",
        "\n",
        "y_train_prep = to_categorical(y_train)\n",
        "y_test_prep = to_categorical(y_test)\n",
        "y_val_prep = to_categorical(y_val)"
      ],
      "metadata": {
        "id": "q_cCfltzAbbV"
      },
      "execution_count": 15,
      "outputs": []
    },
    {
      "cell_type": "markdown",
      "source": [
        "##5. Entramiento de la RNA"
      ],
      "metadata": {
        "id": "qaa0ZlGdBKU4"
      }
    },
    {
      "cell_type": "code",
      "source": [
        "from tensorflow.keras.callbacks import EarlyStopping\n",
        "\n",
        "early_stopping = EarlyStopping(monitor='val_loss',\n",
        "                               patience=5,\n",
        "                               restore_best_weights=True)\n",
        "\n",
        "history = network.fit(X_train_prep,\n",
        "                      y_train_prep,\n",
        "                      epochs=50,\n",
        "                      validation_data=(X_val_prep, y_val_prep))"
      ],
      "metadata": {
        "colab": {
          "base_uri": "https://localhost:8080/"
        },
        "id": "zsc9jvxnBE1S",
        "outputId": "9309166c-e310-4016-e35b-00c7a5c40d2e"
      },
      "execution_count": 16,
      "outputs": [
        {
          "output_type": "stream",
          "name": "stdout",
          "text": [
            "Epoch 1/50\n",
            "\u001b[1m1875/1875\u001b[0m \u001b[32m━━━━━━━━━━━━━━━━━━━━\u001b[0m\u001b[37m\u001b[0m \u001b[1m13s\u001b[0m 6ms/step - Precision: 0.4606 - accuracy: 0.2667 - loss: 15.8372 - val_Precision: 0.0000e+00 - val_accuracy: 0.0996 - val_loss: 2.3068\n",
            "Epoch 2/50\n",
            "\u001b[1m1875/1875\u001b[0m \u001b[32m━━━━━━━━━━━━━━━━━━━━\u001b[0m\u001b[37m\u001b[0m \u001b[1m10s\u001b[0m 5ms/step - Precision: 0.8558 - accuracy: 0.3769 - loss: 1.7733 - val_Precision: 0.0000e+00 - val_accuracy: 0.0994 - val_loss: 2.3926\n",
            "Epoch 3/50\n",
            "\u001b[1m1875/1875\u001b[0m \u001b[32m━━━━━━━━━━━━━━━━━━━━\u001b[0m\u001b[37m\u001b[0m \u001b[1m11s\u001b[0m 6ms/step - Precision: 0.8525 - accuracy: 0.4988 - loss: 1.4559 - val_Precision: 0.0000e+00 - val_accuracy: 0.0994 - val_loss: 2.4588\n",
            "Epoch 4/50\n",
            "\u001b[1m1875/1875\u001b[0m \u001b[32m━━━━━━━━━━━━━━━━━━━━\u001b[0m\u001b[37m\u001b[0m \u001b[1m14s\u001b[0m 7ms/step - Precision: 0.8699 - accuracy: 0.5719 - loss: 1.2883 - val_Precision: 0.0000e+00 - val_accuracy: 0.0994 - val_loss: 2.4885\n",
            "Epoch 5/50\n",
            "\u001b[1m1875/1875\u001b[0m \u001b[32m━━━━━━━━━━━━━━━━━━━━\u001b[0m\u001b[37m\u001b[0m \u001b[1m18s\u001b[0m 6ms/step - Precision: 0.8784 - accuracy: 0.6281 - loss: 1.1233 - val_Precision: 0.0000e+00 - val_accuracy: 0.0994 - val_loss: 2.5810\n",
            "Epoch 6/50\n",
            "\u001b[1m1875/1875\u001b[0m \u001b[32m━━━━━━━━━━━━━━━━━━━━\u001b[0m\u001b[37m\u001b[0m \u001b[1m11s\u001b[0m 6ms/step - Precision: 0.8891 - accuracy: 0.6949 - loss: 0.9758 - val_Precision: 0.0000e+00 - val_accuracy: 0.0994 - val_loss: 2.6328\n",
            "Epoch 7/50\n",
            "\u001b[1m1875/1875\u001b[0m \u001b[32m━━━━━━━━━━━━━━━━━━━━\u001b[0m\u001b[37m\u001b[0m \u001b[1m11s\u001b[0m 6ms/step - Precision: 0.9000 - accuracy: 0.7260 - loss: 0.9098 - val_Precision: 0.0000e+00 - val_accuracy: 0.0994 - val_loss: 2.6659\n",
            "Epoch 8/50\n",
            "\u001b[1m1875/1875\u001b[0m \u001b[32m━━━━━━━━━━━━━━━━━━━━\u001b[0m\u001b[37m\u001b[0m \u001b[1m12s\u001b[0m 6ms/step - Precision: 0.9125 - accuracy: 0.7626 - loss: 0.8324 - val_Precision: 0.0000e+00 - val_accuracy: 0.0994 - val_loss: 2.7272\n",
            "Epoch 9/50\n",
            "\u001b[1m1875/1875\u001b[0m \u001b[32m━━━━━━━━━━━━━━━━━━━━\u001b[0m\u001b[37m\u001b[0m \u001b[1m12s\u001b[0m 6ms/step - Precision: 0.9206 - accuracy: 0.7897 - loss: 0.7575 - val_Precision: 0.0000e+00 - val_accuracy: 0.0994 - val_loss: 2.7160\n",
            "Epoch 10/50\n",
            "\u001b[1m1875/1875\u001b[0m \u001b[32m━━━━━━━━━━━━━━━━━━━━\u001b[0m\u001b[37m\u001b[0m \u001b[1m11s\u001b[0m 6ms/step - Precision: 0.9219 - accuracy: 0.8141 - loss: 0.7176 - val_Precision: 0.0000e+00 - val_accuracy: 0.0994 - val_loss: 2.7395\n",
            "Epoch 11/50\n",
            "\u001b[1m1875/1875\u001b[0m \u001b[32m━━━━━━━━━━━━━━━━━━━━\u001b[0m\u001b[37m\u001b[0m \u001b[1m20s\u001b[0m 6ms/step - Precision: 0.9224 - accuracy: 0.8209 - loss: 0.6736 - val_Precision: 0.0014 - val_accuracy: 0.0994 - val_loss: 2.7345\n",
            "Epoch 12/50\n",
            "\u001b[1m1875/1875\u001b[0m \u001b[32m━━━━━━━━━━━━━━━━━━━━\u001b[0m\u001b[37m\u001b[0m \u001b[1m20s\u001b[0m 6ms/step - Precision: 0.8800 - accuracy: 0.8376 - loss: 0.6380 - val_Precision: 0.1586 - val_accuracy: 0.0994 - val_loss: 2.7835\n",
            "Epoch 13/50\n",
            "\u001b[1m1875/1875\u001b[0m \u001b[32m━━━━━━━━━━━━━━━━━━━━\u001b[0m\u001b[37m\u001b[0m \u001b[1m20s\u001b[0m 6ms/step - Precision: 0.8757 - accuracy: 0.8406 - loss: 0.6415 - val_Precision: 0.1298 - val_accuracy: 0.0994 - val_loss: 2.7831\n",
            "Epoch 14/50\n",
            "\u001b[1m1875/1875\u001b[0m \u001b[32m━━━━━━━━━━━━━━━━━━━━\u001b[0m\u001b[37m\u001b[0m \u001b[1m11s\u001b[0m 6ms/step - Precision: 0.8804 - accuracy: 0.8478 - loss: 0.6052 - val_Precision: 0.1239 - val_accuracy: 0.0994 - val_loss: 2.8181\n",
            "Epoch 15/50\n",
            "\u001b[1m1875/1875\u001b[0m \u001b[32m━━━━━━━━━━━━━━━━━━━━\u001b[0m\u001b[37m\u001b[0m \u001b[1m11s\u001b[0m 6ms/step - Precision: 0.8839 - accuracy: 0.8507 - loss: 0.6004 - val_Precision: 0.1194 - val_accuracy: 0.0994 - val_loss: 2.8013\n",
            "Epoch 16/50\n",
            "\u001b[1m1875/1875\u001b[0m \u001b[32m━━━━━━━━━━━━━━━━━━━━\u001b[0m\u001b[37m\u001b[0m \u001b[1m11s\u001b[0m 6ms/step - Precision: 0.8911 - accuracy: 0.8611 - loss: 0.5712 - val_Precision: 0.1166 - val_accuracy: 0.1028 - val_loss: 2.7893\n",
            "Epoch 17/50\n",
            "\u001b[1m1875/1875\u001b[0m \u001b[32m━━━━━━━━━━━━━━━━━━━━\u001b[0m\u001b[37m\u001b[0m \u001b[1m10s\u001b[0m 5ms/step - Precision: 0.8942 - accuracy: 0.8661 - loss: 0.5646 - val_Precision: 0.1194 - val_accuracy: 0.0994 - val_loss: 2.7583\n",
            "Epoch 18/50\n",
            "\u001b[1m1875/1875\u001b[0m \u001b[32m━━━━━━━━━━━━━━━━━━━━\u001b[0m\u001b[37m\u001b[0m \u001b[1m11s\u001b[0m 6ms/step - Precision: 0.8957 - accuracy: 0.8682 - loss: 0.5516 - val_Precision: 0.1122 - val_accuracy: 0.0994 - val_loss: 2.7606\n",
            "Epoch 19/50\n",
            "\u001b[1m1875/1875\u001b[0m \u001b[32m━━━━━━━━━━━━━━━━━━━━\u001b[0m\u001b[37m\u001b[0m \u001b[1m12s\u001b[0m 6ms/step - Precision: 0.9030 - accuracy: 0.8770 - loss: 0.5107 - val_Precision: 0.1102 - val_accuracy: 0.0994 - val_loss: 2.7906\n",
            "Epoch 20/50\n",
            "\u001b[1m1875/1875\u001b[0m \u001b[32m━━━━━━━━━━━━━━━━━━━━\u001b[0m\u001b[37m\u001b[0m \u001b[1m12s\u001b[0m 6ms/step - Precision: 0.9009 - accuracy: 0.8763 - loss: 0.5721 - val_Precision: 0.1152 - val_accuracy: 0.0994 - val_loss: 2.7352\n",
            "Epoch 21/50\n",
            "\u001b[1m1875/1875\u001b[0m \u001b[32m━━━━━━━━━━━━━━━━━━━━\u001b[0m\u001b[37m\u001b[0m \u001b[1m22s\u001b[0m 7ms/step - Precision: 0.9093 - accuracy: 0.8841 - loss: 0.5080 - val_Precision: 0.1076 - val_accuracy: 0.0994 - val_loss: 2.7987\n",
            "Epoch 22/50\n",
            "\u001b[1m1875/1875\u001b[0m \u001b[32m━━━━━━━━━━━━━━━━━━━━\u001b[0m\u001b[37m\u001b[0m \u001b[1m19s\u001b[0m 6ms/step - Precision: 0.9124 - accuracy: 0.8892 - loss: 0.4871 - val_Precision: 0.1093 - val_accuracy: 0.0994 - val_loss: 2.7972\n",
            "Epoch 23/50\n",
            "\u001b[1m1875/1875\u001b[0m \u001b[32m━━━━━━━━━━━━━━━━━━━━\u001b[0m\u001b[37m\u001b[0m \u001b[1m11s\u001b[0m 6ms/step - Precision: 0.9091 - accuracy: 0.8855 - loss: 0.5138 - val_Precision: 0.1088 - val_accuracy: 0.0994 - val_loss: 2.7764\n",
            "Epoch 24/50\n",
            "\u001b[1m1875/1875\u001b[0m \u001b[32m━━━━━━━━━━━━━━━━━━━━\u001b[0m\u001b[37m\u001b[0m \u001b[1m10s\u001b[0m 5ms/step - Precision: 0.9103 - accuracy: 0.8858 - loss: 0.5094 - val_Precision: 0.1195 - val_accuracy: 0.0994 - val_loss: 2.7160\n",
            "Epoch 25/50\n",
            "\u001b[1m1875/1875\u001b[0m \u001b[32m━━━━━━━━━━━━━━━━━━━━\u001b[0m\u001b[37m\u001b[0m \u001b[1m11s\u001b[0m 6ms/step - Precision: 0.9186 - accuracy: 0.8960 - loss: 0.4714 - val_Precision: 0.1175 - val_accuracy: 0.0998 - val_loss: 2.6976\n",
            "Epoch 26/50\n",
            "\u001b[1m1875/1875\u001b[0m \u001b[32m━━━━━━━━━━━━━━━━━━━━\u001b[0m\u001b[37m\u001b[0m \u001b[1m11s\u001b[0m 6ms/step - Precision: 0.9180 - accuracy: 0.8961 - loss: 0.4632 - val_Precision: 0.1299 - val_accuracy: 0.0994 - val_loss: 2.6731\n",
            "Epoch 27/50\n",
            "\u001b[1m1875/1875\u001b[0m \u001b[32m━━━━━━━━━━━━━━━━━━━━\u001b[0m\u001b[37m\u001b[0m \u001b[1m21s\u001b[0m 6ms/step - Precision: 0.9204 - accuracy: 0.8954 - loss: 0.4801 - val_Precision: 0.1341 - val_accuracy: 0.0994 - val_loss: 2.6836\n",
            "Epoch 28/50\n",
            "\u001b[1m1875/1875\u001b[0m \u001b[32m━━━━━━━━━━━━━━━━━━━━\u001b[0m\u001b[37m\u001b[0m \u001b[1m10s\u001b[0m 6ms/step - Precision: 0.9167 - accuracy: 0.8939 - loss: 0.4815 - val_Precision: 0.1666 - val_accuracy: 0.0994 - val_loss: 2.6440\n",
            "Epoch 29/50\n",
            "\u001b[1m1875/1875\u001b[0m \u001b[32m━━━━━━━━━━━━━━━━━━━━\u001b[0m\u001b[37m\u001b[0m \u001b[1m11s\u001b[0m 6ms/step - Precision: 0.9208 - accuracy: 0.8984 - loss: 0.4702 - val_Precision: 0.1890 - val_accuracy: 0.0996 - val_loss: 2.5487\n",
            "Epoch 30/50\n",
            "\u001b[1m1875/1875\u001b[0m \u001b[32m━━━━━━━━━━━━━━━━━━━━\u001b[0m\u001b[37m\u001b[0m \u001b[1m11s\u001b[0m 6ms/step - Precision: 0.9262 - accuracy: 0.9040 - loss: 0.4556 - val_Precision: 0.2006 - val_accuracy: 0.1008 - val_loss: 2.5623\n",
            "Epoch 31/50\n",
            "\u001b[1m1875/1875\u001b[0m \u001b[32m━━━━━━━━━━━━━━━━━━━━\u001b[0m\u001b[37m\u001b[0m \u001b[1m21s\u001b[0m 6ms/step - Precision: 0.9260 - accuracy: 0.9033 - loss: 0.4543 - val_Precision: 0.2011 - val_accuracy: 0.0994 - val_loss: 2.5362\n",
            "Epoch 32/50\n",
            "\u001b[1m1875/1875\u001b[0m \u001b[32m━━━━━━━━━━━━━━━━━━━━\u001b[0m\u001b[37m\u001b[0m \u001b[1m10s\u001b[0m 5ms/step - Precision: 0.9215 - accuracy: 0.9002 - loss: 0.4743 - val_Precision: 0.2472 - val_accuracy: 0.1542 - val_loss: 2.4000\n",
            "Epoch 33/50\n",
            "\u001b[1m1875/1875\u001b[0m \u001b[32m━━━━━━━━━━━━━━━━━━━━\u001b[0m\u001b[37m\u001b[0m \u001b[1m12s\u001b[0m 6ms/step - Precision: 0.9242 - accuracy: 0.9053 - loss: 0.4828 - val_Precision: 0.2491 - val_accuracy: 0.2120 - val_loss: 2.4386\n",
            "Epoch 34/50\n",
            "\u001b[1m1875/1875\u001b[0m \u001b[32m━━━━━━━━━━━━━━━━━━━━\u001b[0m\u001b[37m\u001b[0m \u001b[1m21s\u001b[0m 6ms/step - Precision: 0.9283 - accuracy: 0.9086 - loss: 0.4178 - val_Precision: 0.2423 - val_accuracy: 0.1964 - val_loss: 2.3582\n",
            "Epoch 35/50\n",
            "\u001b[1m1875/1875\u001b[0m \u001b[32m━━━━━━━━━━━━━━━━━━━━\u001b[0m\u001b[37m\u001b[0m \u001b[1m12s\u001b[0m 6ms/step - Precision: 0.9296 - accuracy: 0.9093 - loss: 0.4246 - val_Precision: 0.2470 - val_accuracy: 0.2700 - val_loss: 2.3499\n",
            "Epoch 36/50\n",
            "\u001b[1m1875/1875\u001b[0m \u001b[32m━━━━━━━━━━━━━━━━━━━━\u001b[0m\u001b[37m\u001b[0m \u001b[1m10s\u001b[0m 5ms/step - Precision: 0.9330 - accuracy: 0.9119 - loss: 0.4120 - val_Precision: 0.2701 - val_accuracy: 0.2086 - val_loss: 2.3603\n",
            "Epoch 37/50\n",
            "\u001b[1m1875/1875\u001b[0m \u001b[32m━━━━━━━━━━━━━━━━━━━━\u001b[0m\u001b[37m\u001b[0m \u001b[1m21s\u001b[0m 6ms/step - Precision: 0.9324 - accuracy: 0.9092 - loss: 0.4243 - val_Precision: 0.2515 - val_accuracy: 0.2684 - val_loss: 2.3363\n",
            "Epoch 38/50\n",
            "\u001b[1m1875/1875\u001b[0m \u001b[32m━━━━━━━━━━━━━━━━━━━━\u001b[0m\u001b[37m\u001b[0m \u001b[1m11s\u001b[0m 6ms/step - Precision: 0.9291 - accuracy: 0.9070 - loss: 0.4421 - val_Precision: 0.2925 - val_accuracy: 0.2526 - val_loss: 2.2348\n",
            "Epoch 39/50\n",
            "\u001b[1m1875/1875\u001b[0m \u001b[32m━━━━━━━━━━━━━━━━━━━━\u001b[0m\u001b[37m\u001b[0m \u001b[1m19s\u001b[0m 5ms/step - Precision: 0.9341 - accuracy: 0.9131 - loss: 0.4233 - val_Precision: 0.3205 - val_accuracy: 0.2198 - val_loss: 2.2470\n",
            "Epoch 40/50\n",
            "\u001b[1m1875/1875\u001b[0m \u001b[32m━━━━━━━━━━━━━━━━━━━━\u001b[0m\u001b[37m\u001b[0m \u001b[1m11s\u001b[0m 6ms/step - Precision: 0.9402 - accuracy: 0.9171 - loss: 0.4008 - val_Precision: 0.3568 - val_accuracy: 0.2368 - val_loss: 2.2727\n",
            "Epoch 41/50\n",
            "\u001b[1m1875/1875\u001b[0m \u001b[32m━━━━━━━━━━━━━━━━━━━━\u001b[0m\u001b[37m\u001b[0m \u001b[1m21s\u001b[0m 6ms/step - Precision: 0.9379 - accuracy: 0.9133 - loss: 0.4131 - val_Precision: 0.3261 - val_accuracy: 0.2324 - val_loss: 2.3214\n",
            "Epoch 42/50\n",
            "\u001b[1m1875/1875\u001b[0m \u001b[32m━━━━━━━━━━━━━━━━━━━━\u001b[0m\u001b[37m\u001b[0m \u001b[1m12s\u001b[0m 6ms/step - Precision: 0.9370 - accuracy: 0.9139 - loss: 0.4205 - val_Precision: 0.3474 - val_accuracy: 0.1922 - val_loss: 2.1927\n",
            "Epoch 43/50\n",
            "\u001b[1m1875/1875\u001b[0m \u001b[32m━━━━━━━━━━━━━━━━━━━━\u001b[0m\u001b[37m\u001b[0m \u001b[1m20s\u001b[0m 6ms/step - Precision: 0.9398 - accuracy: 0.9178 - loss: 0.3848 - val_Precision: 0.3148 - val_accuracy: 0.2088 - val_loss: 2.2682\n",
            "Epoch 44/50\n",
            "\u001b[1m1875/1875\u001b[0m \u001b[32m━━━━━━━━━━━━━━━━━━━━\u001b[0m\u001b[37m\u001b[0m \u001b[1m21s\u001b[0m 6ms/step - Precision: 0.9377 - accuracy: 0.9148 - loss: 0.4120 - val_Precision: 0.3286 - val_accuracy: 0.2078 - val_loss: 2.2637\n",
            "Epoch 45/50\n",
            "\u001b[1m1875/1875\u001b[0m \u001b[32m━━━━━━━━━━━━━━━━━━━━\u001b[0m\u001b[37m\u001b[0m \u001b[1m20s\u001b[0m 6ms/step - Precision: 0.9422 - accuracy: 0.9220 - loss: 0.3685 - val_Precision: 0.3372 - val_accuracy: 0.1942 - val_loss: 2.2954\n",
            "Epoch 46/50\n",
            "\u001b[1m1875/1875\u001b[0m \u001b[32m━━━━━━━━━━━━━━━━━━━━\u001b[0m\u001b[37m\u001b[0m \u001b[1m21s\u001b[0m 6ms/step - Precision: 0.9403 - accuracy: 0.9155 - loss: 0.3929 - val_Precision: 0.3224 - val_accuracy: 0.2002 - val_loss: 2.2477\n",
            "Epoch 47/50\n",
            "\u001b[1m1875/1875\u001b[0m \u001b[32m━━━━━━━━━━━━━━━━━━━━\u001b[0m\u001b[37m\u001b[0m \u001b[1m20s\u001b[0m 6ms/step - Precision: 0.9452 - accuracy: 0.9237 - loss: 0.3618 - val_Precision: 0.3147 - val_accuracy: 0.2518 - val_loss: 2.2848\n",
            "Epoch 48/50\n",
            "\u001b[1m1875/1875\u001b[0m \u001b[32m━━━━━━━━━━━━━━━━━━━━\u001b[0m\u001b[37m\u001b[0m \u001b[1m22s\u001b[0m 6ms/step - Precision: 0.9438 - accuracy: 0.9191 - loss: 0.3988 - val_Precision: 0.4473 - val_accuracy: 0.1870 - val_loss: 2.2511\n",
            "Epoch 49/50\n",
            "\u001b[1m1875/1875\u001b[0m \u001b[32m━━━━━━━━━━━━━━━━━━━━\u001b[0m\u001b[37m\u001b[0m \u001b[1m12s\u001b[0m 6ms/step - Precision: 0.9424 - accuracy: 0.9200 - loss: 0.3757 - val_Precision: 0.3565 - val_accuracy: 0.2238 - val_loss: 2.2570\n",
            "Epoch 50/50\n",
            "\u001b[1m1875/1875\u001b[0m \u001b[32m━━━━━━━━━━━━━━━━━━━━\u001b[0m\u001b[37m\u001b[0m \u001b[1m12s\u001b[0m 6ms/step - Precision: 0.9410 - accuracy: 0.9198 - loss: 0.3803 - val_Precision: 0.3675 - val_accuracy: 0.2230 - val_loss: 2.1912\n"
          ]
        }
      ]
    },
    {
      "cell_type": "code",
      "source": [
        "import pandas as pd\n",
        "import matplotlib.pyplot as plt\n",
        "\n",
        "pd.DataFrame(history.history).plot(figsize=(10, 7))\n",
        "plt.grid(True)\n",
        "plt.gca().set_ylim(0, 1.2)\n",
        "plt.xlabel('epochs')\n",
        "plt.show()"
      ],
      "metadata": {
        "colab": {
          "base_uri": "https://localhost:8080/",
          "height": 624
        },
        "id": "_79BGPi4Bevd",
        "outputId": "5d899efd-6514-4c00-a37a-71b7da13272f"
      },
      "execution_count": 17,
      "outputs": [
        {
          "output_type": "display_data",
          "data": {
            "text/plain": [
              "<Figure size 1000x700 with 1 Axes>"
            ],
            "image/png": "[encoded data removed]"
          },
          "metadata": {}
        }
      ]
    },
    {
      "cell_type": "markdown",
      "source": [
        "##6. Validación con el conjunto de datos de prueba"
      ],
      "metadata": {
        "id": "blUUVe6vGvsT"
      }
    },
    {
      "cell_type": "code",
      "source": [
        "test_loss, test_acc, test_prec = network.evaluate(X_test_prep, y_test_prep)"
      ],
      "metadata": {
        "colab": {
          "base_uri": "https://localhost:8080/"
        },
        "id": "xu9JtViGC4YK",
        "outputId": "a662b49b-9672-4099-dd19-d237cbe5cc03"
      },
      "execution_count": 18,
      "outputs": [
        {
          "output_type": "stream",
          "name": "stdout",
          "text": [
            "\u001b[1m157/157\u001b[0m \u001b[32m━━━━━━━━━━━━━━━━━━━━\u001b[0m\u001b[37m\u001b[0m \u001b[1m0s\u001b[0m 2ms/step - Precision: 0.3438 - accuracy: 0.2042 - loss: 2.2124\n"
          ]
        }
      ]
    },
    {
      "cell_type": "code",
      "source": [
        "print('test_acc', test_acc)\n",
        "print('test_prec', test_prec)"
      ],
      "metadata": {
        "colab": {
          "base_uri": "https://localhost:8080/"
        },
        "id": "R6_8i0liHNnQ",
        "outputId": "5df1ebd5-5ff9-4fd1-a518-ba4e08f6c212"
      },
      "execution_count": 19,
      "outputs": [
        {
          "output_type": "stream",
          "name": "stdout",
          "text": [
            "test_acc 0.21480000019073486\n",
            "test_prec 0.3522953987121582\n"
          ]
        }
      ]
    },
    {
      "cell_type": "markdown",
      "source": [
        "##7. Predicción de nuevos ejemplos"
      ],
      "metadata": {
        "id": "39vLKBM1HhGt"
      }
    },
    {
      "cell_type": "code",
      "source": [
        "# Suponemos que X_new es un nuevo ejemplo que el algoritmo no ha visto nunca\n",
        "X_new = X_test[34]"
      ],
      "metadata": {
        "id": "hZc9uIqGHc9Y"
      },
      "execution_count": 20,
      "outputs": []
    },
    {
      "cell_type": "code",
      "source": [
        "# Representación gráfica del nuevo ejemplo que queremos predecir\n",
        "plt.imshow(np.reshape(X_new, (28,28)), cmap=plt.cm.gray)\n",
        "plt.show()"
      ],
      "metadata": {
        "colab": {
          "base_uri": "https://localhost:8080/",
          "height": 430
        },
        "id": "BeyUXw0dBSjl",
        "outputId": "bc33324a-e6e8-4728-a9d9-f9451e18768e"
      },
      "execution_count": 21,
      "outputs": [
        {
          "output_type": "display_data",
          "data": {
            "text/plain": [
              "<Figure size 640x480 with 1 Axes>"
            ],
            "image/png": "[encoded data removed]"
          },
          "metadata": {}
        }
      ]
    },
    {
      "cell_type": "code",
      "source": [
        "# Preprocesamos la nueva imagen que queremos predecir\n",
        "X_new_prep = X_new.reshape((1, 28*28))\n",
        "X_new_prep = X_new_prep.astype('float32') / 255.0"
      ],
      "metadata": {
        "id": "2y2LtbjyBmgw"
      },
      "execution_count": 22,
      "outputs": []
    },
    {
      "cell_type": "code",
      "source": [
        "# Realizamos la predicción\n",
        "y_proba = network.predict(X_new_prep)"
      ],
      "metadata": {
        "colab": {
          "base_uri": "https://localhost:8080/"
        },
        "id": "7APGkvahB6mz",
        "outputId": "8ee70546-f83a-40d9-e137-74c1fe484879"
      },
      "execution_count": 23,
      "outputs": [
        {
          "output_type": "stream",
          "name": "stdout",
          "text": [
            "\u001b[1m1/1\u001b[0m \u001b[32m━━━━━━━━━━━━━━━━━━━━\u001b[0m\u001b[37m\u001b[0m \u001b[1m0s\u001b[0m 74ms/step\n"
          ]
        }
      ]
    },
    {
      "cell_type": "code",
      "source": [
        "y_proba.round(2)"
      ],
      "metadata": {
        "colab": {
          "base_uri": "https://localhost:8080/"
        },
        "id": "6x74JdajCGVz",
        "outputId": "d0c20949-15b1-4098-f5d6-e2472795b683"
      },
      "execution_count": 24,
      "outputs": [
        {
          "output_type": "execute_result",
          "data": {
            "text/plain": [
              "array([[0.09, 0.02, 0.09, 0.06, 0.06, 0.09, 0.06, 0.04, 0.36, 0.14]],\n",
              "      dtype=float32)"
            ]
          },
          "metadata": {},
          "execution_count": 24
        }
      ]
    },
    {
      "cell_type": "code",
      "source": [
        "# Realizamos la predicción obteniendo una clase en lugar de una probabilidad\n",
        "np.argmax(network.predict(X_new_prep), axis=-1)"
      ],
      "metadata": {
        "colab": {
          "base_uri": "https://localhost:8080/"
        },
        "id": "DxJDXWB_CL0l",
        "outputId": "178c893f-93da-4629-98be-68a2a0ea8f08"
      },
      "execution_count": 25,
      "outputs": [
        {
          "output_type": "stream",
          "name": "stdout",
          "text": [
            "\u001b[1m1/1\u001b[0m \u001b[32m━━━━━━━━━━━━━━━━━━━━\u001b[0m\u001b[37m\u001b[0m \u001b[1m0s\u001b[0m 25ms/step\n"
          ]
        },
        {
          "output_type": "execute_result",
          "data": {
            "text/plain": [
              "array([8])"
            ]
          },
          "metadata": {},
          "execution_count": 25
        }
      ]
    }
  ]
}